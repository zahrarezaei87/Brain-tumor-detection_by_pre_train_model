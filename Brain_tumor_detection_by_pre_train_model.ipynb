{
  "nbformat": 4,
  "nbformat_minor": 0,
  "metadata": {
    "colab": {
      "provenance": [],
      "gpuType": "T4",
      "authorship_tag": "ABX9TyMpuYwCGCzc60VspDV2+m6L"
    },
    "kernelspec": {
      "name": "python3",
      "display_name": "Python 3"
    },
    "language_info": {
      "name": "python"
    },
    "accelerator": "GPU"
  },
  "cells": [
    {
      "cell_type": "code",
      "source": [
        "from google.colab import files\n",
        "\n",
        "uploaded = files.upload()\n"
      ],
      "metadata": {
        "colab": {
          "base_uri": "https://localhost:8080/",
          "height": 73
        },
        "id": "9tkPeUeMB137",
        "outputId": "c3caf1b6-0a2d-4208-abe6-452824975533"
      },
      "execution_count": 1,
      "outputs": [
        {
          "output_type": "display_data",
          "data": {
            "text/plain": [
              "<IPython.core.display.HTML object>"
            ],
            "text/html": [
              "\n",
              "     <input type=\"file\" id=\"files-5d54cb3a-2a38-45f9-8a52-1adc9f8dfc1e\" name=\"files[]\" multiple disabled\n",
              "        style=\"border:none\" />\n",
              "     <output id=\"result-5d54cb3a-2a38-45f9-8a52-1adc9f8dfc1e\">\n",
              "      Upload widget is only available when the cell has been executed in the\n",
              "      current browser session. Please rerun this cell to enable.\n",
              "      </output>\n",
              "      <script>// Copyright 2017 Google LLC\n",
              "//\n",
              "// Licensed under the Apache License, Version 2.0 (the \"License\");\n",
              "// you may not use this file except in compliance with the License.\n",
              "// You may obtain a copy of the License at\n",
              "//\n",
              "//      http://www.apache.org/licenses/LICENSE-2.0\n",
              "//\n",
              "// Unless required by applicable law or agreed to in writing, software\n",
              "// distributed under the License is distributed on an \"AS IS\" BASIS,\n",
              "// WITHOUT WARRANTIES OR CONDITIONS OF ANY KIND, either express or implied.\n",
              "// See the License for the specific language governing permissions and\n",
              "// limitations under the License.\n",
              "\n",
              "/**\n",
              " * @fileoverview Helpers for google.colab Python module.\n",
              " */\n",
              "(function(scope) {\n",
              "function span(text, styleAttributes = {}) {\n",
              "  const element = document.createElement('span');\n",
              "  element.textContent = text;\n",
              "  for (const key of Object.keys(styleAttributes)) {\n",
              "    element.style[key] = styleAttributes[key];\n",
              "  }\n",
              "  return element;\n",
              "}\n",
              "\n",
              "// Max number of bytes which will be uploaded at a time.\n",
              "const MAX_PAYLOAD_SIZE = 100 * 1024;\n",
              "\n",
              "function _uploadFiles(inputId, outputId) {\n",
              "  const steps = uploadFilesStep(inputId, outputId);\n",
              "  const outputElement = document.getElementById(outputId);\n",
              "  // Cache steps on the outputElement to make it available for the next call\n",
              "  // to uploadFilesContinue from Python.\n",
              "  outputElement.steps = steps;\n",
              "\n",
              "  return _uploadFilesContinue(outputId);\n",
              "}\n",
              "\n",
              "// This is roughly an async generator (not supported in the browser yet),\n",
              "// where there are multiple asynchronous steps and the Python side is going\n",
              "// to poll for completion of each step.\n",
              "// This uses a Promise to block the python side on completion of each step,\n",
              "// then passes the result of the previous step as the input to the next step.\n",
              "function _uploadFilesContinue(outputId) {\n",
              "  const outputElement = document.getElementById(outputId);\n",
              "  const steps = outputElement.steps;\n",
              "\n",
              "  const next = steps.next(outputElement.lastPromiseValue);\n",
              "  return Promise.resolve(next.value.promise).then((value) => {\n",
              "    // Cache the last promise value to make it available to the next\n",
              "    // step of the generator.\n",
              "    outputElement.lastPromiseValue = value;\n",
              "    return next.value.response;\n",
              "  });\n",
              "}\n",
              "\n",
              "/**\n",
              " * Generator function which is called between each async step of the upload\n",
              " * process.\n",
              " * @param {string} inputId Element ID of the input file picker element.\n",
              " * @param {string} outputId Element ID of the output display.\n",
              " * @return {!Iterable<!Object>} Iterable of next steps.\n",
              " */\n",
              "function* uploadFilesStep(inputId, outputId) {\n",
              "  const inputElement = document.getElementById(inputId);\n",
              "  inputElement.disabled = false;\n",
              "\n",
              "  const outputElement = document.getElementById(outputId);\n",
              "  outputElement.innerHTML = '';\n",
              "\n",
              "  const pickedPromise = new Promise((resolve) => {\n",
              "    inputElement.addEventListener('change', (e) => {\n",
              "      resolve(e.target.files);\n",
              "    });\n",
              "  });\n",
              "\n",
              "  const cancel = document.createElement('button');\n",
              "  inputElement.parentElement.appendChild(cancel);\n",
              "  cancel.textContent = 'Cancel upload';\n",
              "  const cancelPromise = new Promise((resolve) => {\n",
              "    cancel.onclick = () => {\n",
              "      resolve(null);\n",
              "    };\n",
              "  });\n",
              "\n",
              "  // Wait for the user to pick the files.\n",
              "  const files = yield {\n",
              "    promise: Promise.race([pickedPromise, cancelPromise]),\n",
              "    response: {\n",
              "      action: 'starting',\n",
              "    }\n",
              "  };\n",
              "\n",
              "  cancel.remove();\n",
              "\n",
              "  // Disable the input element since further picks are not allowed.\n",
              "  inputElement.disabled = true;\n",
              "\n",
              "  if (!files) {\n",
              "    return {\n",
              "      response: {\n",
              "        action: 'complete',\n",
              "      }\n",
              "    };\n",
              "  }\n",
              "\n",
              "  for (const file of files) {\n",
              "    const li = document.createElement('li');\n",
              "    li.append(span(file.name, {fontWeight: 'bold'}));\n",
              "    li.append(span(\n",
              "        `(${file.type || 'n/a'}) - ${file.size} bytes, ` +\n",
              "        `last modified: ${\n",
              "            file.lastModifiedDate ? file.lastModifiedDate.toLocaleDateString() :\n",
              "                                    'n/a'} - `));\n",
              "    const percent = span('0% done');\n",
              "    li.appendChild(percent);\n",
              "\n",
              "    outputElement.appendChild(li);\n",
              "\n",
              "    const fileDataPromise = new Promise((resolve) => {\n",
              "      const reader = new FileReader();\n",
              "      reader.onload = (e) => {\n",
              "        resolve(e.target.result);\n",
              "      };\n",
              "      reader.readAsArrayBuffer(file);\n",
              "    });\n",
              "    // Wait for the data to be ready.\n",
              "    let fileData = yield {\n",
              "      promise: fileDataPromise,\n",
              "      response: {\n",
              "        action: 'continue',\n",
              "      }\n",
              "    };\n",
              "\n",
              "    // Use a chunked sending to avoid message size limits. See b/62115660.\n",
              "    let position = 0;\n",
              "    do {\n",
              "      const length = Math.min(fileData.byteLength - position, MAX_PAYLOAD_SIZE);\n",
              "      const chunk = new Uint8Array(fileData, position, length);\n",
              "      position += length;\n",
              "\n",
              "      const base64 = btoa(String.fromCharCode.apply(null, chunk));\n",
              "      yield {\n",
              "        response: {\n",
              "          action: 'append',\n",
              "          file: file.name,\n",
              "          data: base64,\n",
              "        },\n",
              "      };\n",
              "\n",
              "      let percentDone = fileData.byteLength === 0 ?\n",
              "          100 :\n",
              "          Math.round((position / fileData.byteLength) * 100);\n",
              "      percent.textContent = `${percentDone}% done`;\n",
              "\n",
              "    } while (position < fileData.byteLength);\n",
              "  }\n",
              "\n",
              "  // All done.\n",
              "  yield {\n",
              "    response: {\n",
              "      action: 'complete',\n",
              "    }\n",
              "  };\n",
              "}\n",
              "\n",
              "scope.google = scope.google || {};\n",
              "scope.google.colab = scope.google.colab || {};\n",
              "scope.google.colab._files = {\n",
              "  _uploadFiles,\n",
              "  _uploadFilesContinue,\n",
              "};\n",
              "})(self);\n",
              "</script> "
            ]
          },
          "metadata": {}
        },
        {
          "output_type": "stream",
          "name": "stdout",
          "text": [
            "Saving kaggle.json to kaggle.json\n"
          ]
        }
      ]
    },
    {
      "cell_type": "code",
      "source": [
        "!kaggle datasets download -d masoudnickparvar/brain-tumor-mri-dataset\n"
      ],
      "metadata": {
        "id": "n3z5iAZ0Chjq",
        "outputId": "690ee0ff-7f2b-45d9-915c-491a40061e0d",
        "colab": {
          "base_uri": "https://localhost:8080/"
        }
      },
      "execution_count": 2,
      "outputs": [
        {
          "output_type": "stream",
          "name": "stdout",
          "text": [
            "Warning: Looks like you're using an outdated API Version, please consider updating (server 1.7.4.2 / client 1.6.17)\n",
            "Dataset URL: https://www.kaggle.com/datasets/masoudnickparvar/brain-tumor-mri-dataset\n",
            "License(s): CC0-1.0\n",
            "Downloading brain-tumor-mri-dataset.zip to /content\n",
            "100% 149M/149M [00:04<00:00, 40.7MB/s]\n",
            "100% 149M/149M [00:04<00:00, 37.1MB/s]\n"
          ]
        }
      ]
    },
    {
      "cell_type": "code",
      "source": [
        "import zipfile\n",
        "\n",
        "with zipfile.ZipFile(\"brain-tumor-mri-dataset.zip\", 'r') as zip_ref:\n",
        "    zip_ref.extractall(\"brain_tumor_data\")\n"
      ],
      "metadata": {
        "id": "RhAxSDR4C25F"
      },
      "execution_count": 3,
      "outputs": []
    },
    {
      "cell_type": "code",
      "source": [
        "import os\n",
        "import cv2\n",
        "import torch\n",
        "import torch.nn as nn\n",
        "import torch.optim as optim\n",
        "from torch.utils.data import DataLoader, Dataset\n",
        "from torchvision import models, transforms\n",
        "import matplotlib.pyplot as plt\n",
        "import numpy as np\n",
        "from torch.optim.lr_scheduler import ReduceLROnPlateau\n",
        "from sklearn.metrics import confusion_matrix, classification_report\n",
        "import seaborn as sns\n",
        "from tqdm import tqdm\n",
        "\n",
        "# --------------------- Configuration Parameters --------------------- #\n",
        "TRAIN_DIR = \"brain_tumor_data/Training\"\n",
        "TEST_DIR = \"brain_tumor_data/Testing\"\n",
        "BATCH_SIZE = 32\n",
        "NUM_EPOCHS = 20\n",
        "MODEL_PATH = 'best_brain_tumor_model.pth'\n",
        "device = torch.device(\"cuda\" if torch.cuda.is_available() else \"cpu\")\n",
        "\n",
        "# --------------------- Dataset Class --------------------- #\n",
        "class BrainTumorDataset(Dataset):\n",
        "    \"\"\"Dataset for brain tumor MRI images classification.\"\"\"\n",
        "\n",
        "    def __init__(self, root_dir, transform=None):\n",
        "        self.root_dir = root_dir\n",
        "        self.transform = transform\n",
        "        self.classes = ['glioma', 'meningioma', 'pituitary', 'notumor']\n",
        "        self.class_to_idx = {cls: idx for idx, cls in enumerate(self.classes)}\n",
        "        self.images = []\n",
        "        self.labels = []\n",
        "\n",
        "        # Check directory existence\n",
        "        if not os.path.exists(root_dir):\n",
        "            raise FileNotFoundError(f\"Path {root_dir} does not exist!\")\n",
        "\n",
        "        # Load images and labels\n",
        "        for cls in self.classes:\n",
        "            class_path = os.path.join(root_dir, cls)\n",
        "            if not os.path.exists(class_path):\n",
        "                print(f\"Warning: Class folder {class_path} not found!\")\n",
        "                continue\n",
        "\n",
        "            for img_name in os.listdir(class_path):\n",
        "                if img_name.lower().endswith(('.jpg', '.jpeg', '.png')):\n",
        "                    self.images.append(os.path.join(class_path, img_name))\n",
        "                    self.labels.append(self.class_to_idx[cls])\n",
        "\n",
        "        if not self.images:\n",
        "            raise ValueError(f\"No images found in {root_dir}!\")\n",
        "\n",
        "    def __len__(self):\n",
        "        return len(self.images)\n",
        "\n",
        "    def __getitem__(self, idx):\n",
        "        img_path = self.images[idx]\n",
        "        label = self.labels[idx]\n",
        "\n",
        "        # Load and preprocess image\n",
        "        img = cv2.imread(img_path)\n",
        "        if img is None:\n",
        "            raise FileNotFoundError(f\"Image {img_path} could not be loaded!\")\n",
        "\n",
        "        # Convert to grayscale and enhance contrast\n",
        "        img_gray = cv2.cvtColor(img, cv2.COLOR_BGR2GRAY)\n",
        "        img_eq = cv2.equalizeHist(img_gray)\n",
        "        img = cv2.cvtColor(img_eq, cv2.COLOR_GRAY2RGB)\n",
        "\n",
        "        if self.transform:\n",
        "            img = self.transform(img)\n",
        "\n",
        "        return img, label\n",
        "\n",
        "# --------------------- Data Transforms --------------------- #\n",
        "def get_transforms():\n",
        "\n",
        "    # Training transforms with data augmentation\n",
        "    train_transform = transforms.Compose([\n",
        "        transforms.ToPILImage(),\n",
        "        transforms.RandomHorizontalFlip(p=0.5),\n",
        "        transforms.RandomRotation(15),\n",
        "        transforms.RandomResizedCrop(224, scale=(0.8, 1.0)),\n",
        "        transforms.ColorJitter(brightness=0.2, contrast=0.2),\n",
        "        transforms.ToTensor(),\n",
        "        transforms.Normalize(mean=[0.485, 0.456, 0.406], std=[0.229, 0.224, 0.225])\n",
        "    ])\n",
        "\n",
        "    # Testing transforms\n",
        "    test_transform = transforms.Compose([\n",
        "        transforms.ToPILImage(),\n",
        "        transforms.Resize((224, 224)),\n",
        "        transforms.ToTensor(),\n",
        "        transforms.Normalize(mean=[0.485, 0.456, 0.406], std=[0.229, 0.224, 0.225])\n",
        "    ])\n",
        "\n",
        "    return train_transform, test_transform\n",
        "\n",
        "# --------------------- Neural Network Model --------------------- #\n",
        "def create_model(num_classes):\n",
        "\n",
        "    # Load pre-trained ResNet18\n",
        "    model = models.resnet18(weights='IMAGENET1K_V1')\n",
        "\n",
        "    # Add Dropout and custom output layer\n",
        "    model.fc = nn.Sequential(\n",
        "        nn.Dropout(0.4),  # Reduce overfitting\n",
        "        nn.Linear(model.fc.in_features, num_classes)\n",
        "    )\n",
        "\n",
        "    # Freeze early layers (for fine-tuning)\n",
        "    for param in model.parameters():\n",
        "        param.requires_grad = False\n",
        "\n",
        "    # Enable training for later layers\n",
        "    for param in model.layer3.parameters():\n",
        "        param.requires_grad = True\n",
        "    for param in model.layer4.parameters():\n",
        "        param.requires_grad = True\n",
        "    for param in model.fc.parameters():\n",
        "        param.requires_grad = True\n",
        "\n",
        "    # Move to appropriate device (GPU/CPU)\n",
        "    model = model.to(device)\n",
        "    return model\n",
        "\n",
        "# --------------------- Training Function --------------------- #\n",
        "def train_model(model, train_loader, test_loader, criterion, optimizer, scheduler, num_epochs):\n",
        "\n",
        "    history = {'train_loss': [], 'val_loss': [], 'val_acc': []}\n",
        "    best_val_acc = 0\n",
        "\n",
        "    for epoch in range(num_epochs):\n",
        "        # Training phase\n",
        "        model.train()\n",
        "        train_loss = 0.0\n",
        "\n",
        "        # Use tqdm for progress display\n",
        "        train_bar = tqdm(train_loader, desc=f\"Epoch {epoch+1}/{num_epochs} [Train]\")\n",
        "        for images, labels in train_bar:\n",
        "            images, labels = images.to(device), labels.to(device)\n",
        "\n",
        "            # Zero the parameter gradients\n",
        "            optimizer.zero_grad()\n",
        "\n",
        "            # Forward pass\n",
        "            outputs = model(images)\n",
        "            loss = criterion(outputs, labels)\n",
        "\n",
        "            # Backward pass\n",
        "            loss.backward()\n",
        "            optimizer.step()\n",
        "\n",
        "            # Update average loss\n",
        "            train_loss += loss.item()\n",
        "            train_bar.set_postfix({'loss': f\"{loss.item():.4f}\"})\n",
        "\n",
        "        train_loss = train_loss / len(train_loader)\n",
        "        history['train_loss'].append(train_loss)\n",
        "\n",
        "        # Evaluation phase\n",
        "        val_loss, val_acc = evaluate_model(model, test_loader, criterion)\n",
        "        history['val_loss'].append(val_loss)\n",
        "        history['val_acc'].append(val_acc)\n",
        "\n",
        "        print(f\"Epoch {epoch+1}/{num_epochs}:\")\n",
        "        print(f\"  - Train Loss: {train_loss:.4f}\")\n",
        "        print(f\"  - Val Loss: {val_loss:.4f}\")\n",
        "        print(f\"  - Val Accuracy: {val_acc:.2f}%\")\n",
        "\n",
        "        # Save best model\n",
        "        if val_acc > best_val_acc:\n",
        "            best_val_acc = val_acc\n",
        "            torch.save({\n",
        "                'epoch': epoch,\n",
        "                'model_state_dict': model.state_dict(),\n",
        "                'optimizer_state_dict': optimizer.state_dict(),\n",
        "                'val_acc': val_acc,\n",
        "            }, MODEL_PATH)\n",
        "            print(f\"  * Model saved with accuracy {best_val_acc:.2f}%\")\n",
        "\n",
        "        # Update learning rate\n",
        "        scheduler.step(val_loss)\n",
        "\n",
        "    # Plot training results\n",
        "    plot_training_results(history)\n",
        "\n",
        "    return history\n",
        "\n",
        "# --------------------- Model Evaluation Function --------------------- #\n",
        "def evaluate_model(model, dataloader, criterion):\n",
        "\n",
        "    model.eval()\n",
        "    correct = 0\n",
        "    total = 0\n",
        "    running_loss = 0.0\n",
        "\n",
        "    with torch.no_grad():\n",
        "        for images, labels in dataloader:\n",
        "            images, labels = images.to(device), labels.to(device)\n",
        "            outputs = model(images)\n",
        "            loss = criterion(outputs, labels)\n",
        "            running_loss += loss.item()\n",
        "\n",
        "            _, preds = torch.max(outputs, 1)\n",
        "            total += labels.size(0)\n",
        "            correct += (preds == labels).sum().item()\n",
        "\n",
        "    avg_loss = running_loss / len(dataloader)\n",
        "    accuracy = 100 * correct / total\n",
        "\n",
        "    return avg_loss, accuracy\n",
        "\n",
        "# --------------------- Model Testing and Report Function --------------------- #\n",
        "def test_model(model, test_loader, classes):\n",
        "\n",
        "    model.eval()\n",
        "    all_preds = []\n",
        "    all_labels = []\n",
        "\n",
        "    # Collect predictions\n",
        "    with torch.no_grad():\n",
        "        for images, labels in tqdm(test_loader, desc=\"Testing\"):\n",
        "            images, labels = images.to(device), labels.to(device)\n",
        "            outputs = model(images)\n",
        "            _, preds = torch.max(outputs, 1)\n",
        "            all_preds.extend(preds.cpu().numpy())\n",
        "            all_labels.extend(labels.cpu().numpy())\n",
        "\n",
        "    # Calculate and display classification report\n",
        "    print(\"\\nClassification Report:\")\n",
        "    report = classification_report(all_labels, all_preds, target_names=classes, digits=4)\n",
        "    print(report)\n",
        "\n",
        "    # Display confusion matrix\n",
        "    plot_confusion_matrix(all_labels, all_preds, classes)\n",
        "\n",
        "# --------------------- Plotting Functions --------------------- #\n",
        "def plot_training_results(history):\n",
        "\n",
        "    plt.figure(figsize=(14, 5))\n",
        "\n",
        "    # Loss plot\n",
        "    plt.subplot(1, 2, 1)\n",
        "    plt.plot(history['train_loss'], label='Train Loss', linewidth=2)\n",
        "    plt.plot(history['val_loss'], label='Validation Loss', linewidth=2)\n",
        "    plt.xlabel('Epoch')\n",
        "    plt.ylabel('Loss')\n",
        "    plt.legend()\n",
        "    plt.title('Loss Trend')\n",
        "    plt.grid(True, linestyle='--', alpha=0.7)\n",
        "\n",
        "    # Accuracy plot\n",
        "    plt.subplot(1, 2, 2)\n",
        "    plt.plot(history['val_acc'], label='Validation Accuracy', color='green', linewidth=2)\n",
        "    plt.xlabel('Epoch')\n",
        "    plt.ylabel('Accuracy (%)')\n",
        "    plt.legend()\n",
        "    plt.title('Accuracy Trend')\n",
        "    plt.grid(True, linestyle='--', alpha=0.7)\n",
        "\n",
        "    plt.tight_layout()\n",
        "    plt.savefig('training_history.png', dpi=300)\n",
        "    plt.show()\n",
        "\n",
        "def plot_confusion_matrix(y_true, y_pred, classes):\n",
        "    \"\"\"Plot confusion matrix\"\"\"\n",
        "    cm = confusion_matrix(y_true, y_pred)\n",
        "    plt.figure(figsize=(10, 8))\n",
        "\n",
        "    # Use seaborn to plot matrix with appropriate coloring\n",
        "    ax = sns.heatmap(cm, annot=True, fmt='d', cmap='Blues',\n",
        "                    xticklabels=classes, yticklabels=classes)\n",
        "\n",
        "    # Rotate labels for better readability\n",
        "    plt.xticks(rotation=45, ha=\"right\")\n",
        "    plt.yticks(rotation=45)\n",
        "\n",
        "    # Set titles\n",
        "    plt.xlabel('Predicted')\n",
        "    plt.ylabel('True')\n",
        "    plt.title('Confusion Matrix')\n",
        "\n",
        "    plt.tight_layout()\n",
        "    plt.savefig('confusion_matrix.png', dpi=300)\n",
        "    plt.show()\n",
        "\n",
        "# --------------------- Main Function --------------------- #\n",
        "def main():\n",
        "\n",
        "    try:\n",
        "        print(\"➡️ Starting Brain MRI Classification Process\")\n",
        "\n",
        "        # Define data transforms\n",
        "        train_transform, test_transform = get_transforms()\n",
        "\n",
        "        print(\"\\n➡️ Loading Datasets\")\n",
        "        # Load datasets\n",
        "        train_dataset = BrainTumorDataset(root_dir=TRAIN_DIR, transform=train_transform)\n",
        "        test_dataset = BrainTumorDataset(root_dir=TEST_DIR, transform=test_transform)\n",
        "\n",
        "        # Create data loaders\n",
        "        train_loader = DataLoader(train_dataset, batch_size=BATCH_SIZE, shuffle=True)\n",
        "        test_loader = DataLoader(test_dataset, batch_size=BATCH_SIZE, shuffle=False)\n",
        "\n",
        "        print(\"\\n➡️ Creating and Configuring Model\")\n",
        "        # Create model\n",
        "        model = create_model(num_classes=len(train_dataset.classes))\n",
        "\n",
        "        # Define loss function and optimizer\n",
        "        criterion = nn.CrossEntropyLoss()\n",
        "        optimizer = optim.AdamW(filter(lambda p: p.requires_grad, model.parameters()),\n",
        "                              lr=0.001, weight_decay=1e-4)\n",
        "        scheduler = ReduceLROnPlateau(optimizer, mode='min', factor=0.2, patience=3, verbose=True)\n",
        "\n",
        "        print(\"\\n➡️ Starting Training Process\")\n",
        "        # Train model\n",
        "        history = train_model(model, train_loader, test_loader, criterion, optimizer, scheduler, NUM_EPOCHS)\n",
        "\n",
        "        print(\"\\n➡️ Loading Best Model for Final Evaluation\")\n",
        "        # Load best model\n",
        "        checkpoint = torch.load(MODEL_PATH)\n",
        "        model.load_state_dict(checkpoint['model_state_dict'])\n",
        "\n",
        "        print(f\"\\n➡️ Starting Final Evaluation (model from epoch {checkpoint['epoch']+1} with accuracy {checkpoint['val_acc']:.2f}%)\")\n",
        "        # Evaluate model\n",
        "        test_model(model, test_loader, train_dataset.classes)\n",
        "\n",
        "        print(\"\\n✅ Classification process completed successfully.\")\n",
        "\n",
        "    except Exception as e:\n",
        "        print(f\"\\n❌ Error: {e}\")\n",
        "        import traceback\n",
        "        traceback.print_exc()\n",
        "\n",
        "if __name__ == \"__main__\":\n",
        "    main()"
      ],
      "metadata": {
        "colab": {
          "base_uri": "https://localhost:8080/",
          "height": 1000
        },
        "id": "XLrNlOWKH9ah",
        "outputId": "bd871e77-17b3-48f5-dad6-0b163811b8d1"
      },
      "execution_count": 4,
      "outputs": [
        {
          "output_type": "stream",
          "name": "stdout",
          "text": [
            "➡️ Starting Brain MRI Classification Process\n",
            "\n",
            "➡️ Loading Datasets\n",
            "\n",
            "➡️ Creating and Configuring Model\n"
          ]
        },
        {
          "output_type": "stream",
          "name": "stderr",
          "text": [
            "Downloading: \"https://download.pytorch.org/models/resnet18-f37072fd.pth\" to /root/.cache/torch/hub/checkpoints/resnet18-f37072fd.pth\n",
            "100%|██████████| 44.7M/44.7M [00:00<00:00, 206MB/s]\n",
            "/usr/local/lib/python3.11/dist-packages/torch/optim/lr_scheduler.py:62: UserWarning: The verbose parameter is deprecated. Please use get_last_lr() to access the learning rate.\n",
            "  warnings.warn(\n"
          ]
        },
        {
          "output_type": "stream",
          "name": "stdout",
          "text": [
            "\n",
            "➡️ Starting Training Process\n"
          ]
        },
        {
          "output_type": "stream",
          "name": "stderr",
          "text": [
            "Epoch 1/20 [Train]: 100%|██████████| 179/179 [01:00<00:00,  2.94it/s, loss=0.0654]\n"
          ]
        },
        {
          "output_type": "stream",
          "name": "stdout",
          "text": [
            "Epoch 1/20:\n",
            "  - Train Loss: 0.3290\n",
            "  - Val Loss: 0.4588\n",
            "  - Val Accuracy: 85.43%\n",
            "  * Model saved with accuracy 85.43%\n"
          ]
        },
        {
          "output_type": "stream",
          "name": "stderr",
          "text": [
            "Epoch 2/20 [Train]: 100%|██████████| 179/179 [00:56<00:00,  3.15it/s, loss=0.4426]\n"
          ]
        },
        {
          "output_type": "stream",
          "name": "stdout",
          "text": [
            "Epoch 2/20:\n",
            "  - Train Loss: 0.1864\n",
            "  - Val Loss: 0.1773\n",
            "  - Val Accuracy: 93.52%\n",
            "  * Model saved with accuracy 93.52%\n"
          ]
        },
        {
          "output_type": "stream",
          "name": "stderr",
          "text": [
            "Epoch 3/20 [Train]: 100%|██████████| 179/179 [00:56<00:00,  3.18it/s, loss=0.0321]\n"
          ]
        },
        {
          "output_type": "stream",
          "name": "stdout",
          "text": [
            "Epoch 3/20:\n",
            "  - Train Loss: 0.1496\n",
            "  - Val Loss: 0.0888\n",
            "  - Val Accuracy: 97.18%\n",
            "  * Model saved with accuracy 97.18%\n"
          ]
        },
        {
          "output_type": "stream",
          "name": "stderr",
          "text": [
            "Epoch 4/20 [Train]: 100%|██████████| 179/179 [00:55<00:00,  3.21it/s, loss=0.3876]\n"
          ]
        },
        {
          "output_type": "stream",
          "name": "stdout",
          "text": [
            "Epoch 4/20:\n",
            "  - Train Loss: 0.1107\n",
            "  - Val Loss: 0.1543\n",
            "  - Val Accuracy: 94.28%\n"
          ]
        },
        {
          "output_type": "stream",
          "name": "stderr",
          "text": [
            "Epoch 5/20 [Train]: 100%|██████████| 179/179 [00:55<00:00,  3.20it/s, loss=0.0563]\n"
          ]
        },
        {
          "output_type": "stream",
          "name": "stdout",
          "text": [
            "Epoch 5/20:\n",
            "  - Train Loss: 0.1038\n",
            "  - Val Loss: 0.1160\n",
            "  - Val Accuracy: 95.88%\n"
          ]
        },
        {
          "output_type": "stream",
          "name": "stderr",
          "text": [
            "Epoch 6/20 [Train]: 100%|██████████| 179/179 [00:56<00:00,  3.16it/s, loss=0.0176]\n"
          ]
        },
        {
          "output_type": "stream",
          "name": "stdout",
          "text": [
            "Epoch 6/20:\n",
            "  - Train Loss: 0.0872\n",
            "  - Val Loss: 0.0803\n",
            "  - Val Accuracy: 97.25%\n",
            "  * Model saved with accuracy 97.25%\n"
          ]
        },
        {
          "output_type": "stream",
          "name": "stderr",
          "text": [
            "Epoch 7/20 [Train]: 100%|██████████| 179/179 [00:55<00:00,  3.24it/s, loss=0.0811]\n"
          ]
        },
        {
          "output_type": "stream",
          "name": "stdout",
          "text": [
            "Epoch 7/20:\n",
            "  - Train Loss: 0.0836\n",
            "  - Val Loss: 0.1078\n",
            "  - Val Accuracy: 96.11%\n"
          ]
        },
        {
          "output_type": "stream",
          "name": "stderr",
          "text": [
            "Epoch 8/20 [Train]: 100%|██████████| 179/179 [00:55<00:00,  3.25it/s, loss=0.0274]\n"
          ]
        },
        {
          "output_type": "stream",
          "name": "stdout",
          "text": [
            "Epoch 8/20:\n",
            "  - Train Loss: 0.0663\n",
            "  - Val Loss: 0.0891\n",
            "  - Val Accuracy: 96.49%\n"
          ]
        },
        {
          "output_type": "stream",
          "name": "stderr",
          "text": [
            "Epoch 9/20 [Train]: 100%|██████████| 179/179 [00:55<00:00,  3.23it/s, loss=0.0345]\n"
          ]
        },
        {
          "output_type": "stream",
          "name": "stdout",
          "text": [
            "Epoch 9/20:\n",
            "  - Train Loss: 0.0593\n",
            "  - Val Loss: 0.0329\n",
            "  - Val Accuracy: 98.86%\n",
            "  * Model saved with accuracy 98.86%\n"
          ]
        },
        {
          "output_type": "stream",
          "name": "stderr",
          "text": [
            "Epoch 10/20 [Train]: 100%|██████████| 179/179 [00:56<00:00,  3.16it/s, loss=0.0229]\n"
          ]
        },
        {
          "output_type": "stream",
          "name": "stdout",
          "text": [
            "Epoch 10/20:\n",
            "  - Train Loss: 0.0688\n",
            "  - Val Loss: 0.0803\n",
            "  - Val Accuracy: 97.10%\n"
          ]
        },
        {
          "output_type": "stream",
          "name": "stderr",
          "text": [
            "Epoch 11/20 [Train]: 100%|██████████| 179/179 [01:00<00:00,  2.98it/s, loss=0.0467]\n"
          ]
        },
        {
          "output_type": "stream",
          "name": "stdout",
          "text": [
            "Epoch 11/20:\n",
            "  - Train Loss: 0.0536\n",
            "  - Val Loss: 0.0575\n",
            "  - Val Accuracy: 98.40%\n"
          ]
        },
        {
          "output_type": "stream",
          "name": "stderr",
          "text": [
            "Epoch 12/20 [Train]: 100%|██████████| 179/179 [01:02<00:00,  2.86it/s, loss=0.0099]\n"
          ]
        },
        {
          "output_type": "stream",
          "name": "stdout",
          "text": [
            "Epoch 12/20:\n",
            "  - Train Loss: 0.0491\n",
            "  - Val Loss: 0.0336\n",
            "  - Val Accuracy: 98.86%\n"
          ]
        },
        {
          "output_type": "stream",
          "name": "stderr",
          "text": [
            "Epoch 13/20 [Train]: 100%|██████████| 179/179 [00:55<00:00,  3.20it/s, loss=0.2162]\n"
          ]
        },
        {
          "output_type": "stream",
          "name": "stdout",
          "text": [
            "Epoch 13/20:\n",
            "  - Train Loss: 0.0454\n",
            "  - Val Loss: 0.0482\n",
            "  - Val Accuracy: 98.63%\n"
          ]
        },
        {
          "output_type": "stream",
          "name": "stderr",
          "text": [
            "Epoch 14/20 [Train]: 100%|██████████| 179/179 [00:57<00:00,  3.13it/s, loss=0.0111]\n"
          ]
        },
        {
          "output_type": "stream",
          "name": "stdout",
          "text": [
            "Epoch 14/20:\n",
            "  - Train Loss: 0.0216\n",
            "  - Val Loss: 0.0300\n",
            "  - Val Accuracy: 99.16%\n",
            "  * Model saved with accuracy 99.16%\n"
          ]
        },
        {
          "output_type": "stream",
          "name": "stderr",
          "text": [
            "Epoch 15/20 [Train]: 100%|██████████| 179/179 [00:55<00:00,  3.23it/s, loss=0.0096]\n"
          ]
        },
        {
          "output_type": "stream",
          "name": "stdout",
          "text": [
            "Epoch 15/20:\n",
            "  - Train Loss: 0.0184\n",
            "  - Val Loss: 0.0273\n",
            "  - Val Accuracy: 99.24%\n",
            "  * Model saved with accuracy 99.24%\n"
          ]
        },
        {
          "output_type": "stream",
          "name": "stderr",
          "text": [
            "Epoch 16/20 [Train]: 100%|██████████| 179/179 [00:55<00:00,  3.22it/s, loss=0.0006]\n"
          ]
        },
        {
          "output_type": "stream",
          "name": "stdout",
          "text": [
            "Epoch 16/20:\n",
            "  - Train Loss: 0.0152\n",
            "  - Val Loss: 0.0237\n",
            "  - Val Accuracy: 99.47%\n",
            "  * Model saved with accuracy 99.47%\n"
          ]
        },
        {
          "output_type": "stream",
          "name": "stderr",
          "text": [
            "Epoch 17/20 [Train]: 100%|██████████| 179/179 [00:55<00:00,  3.23it/s, loss=0.0012]\n"
          ]
        },
        {
          "output_type": "stream",
          "name": "stdout",
          "text": [
            "Epoch 17/20:\n",
            "  - Train Loss: 0.0127\n",
            "  - Val Loss: 0.0193\n",
            "  - Val Accuracy: 99.62%\n",
            "  * Model saved with accuracy 99.62%\n"
          ]
        },
        {
          "output_type": "stream",
          "name": "stderr",
          "text": [
            "Epoch 18/20 [Train]: 100%|██████████| 179/179 [00:55<00:00,  3.23it/s, loss=0.0102]\n"
          ]
        },
        {
          "output_type": "stream",
          "name": "stdout",
          "text": [
            "Epoch 18/20:\n",
            "  - Train Loss: 0.0099\n",
            "  - Val Loss: 0.0305\n",
            "  - Val Accuracy: 99.08%\n"
          ]
        },
        {
          "output_type": "stream",
          "name": "stderr",
          "text": [
            "Epoch 19/20 [Train]: 100%|██████████| 179/179 [00:55<00:00,  3.25it/s, loss=0.0003]\n"
          ]
        },
        {
          "output_type": "stream",
          "name": "stdout",
          "text": [
            "Epoch 19/20:\n",
            "  - Train Loss: 0.0072\n",
            "  - Val Loss: 0.0205\n",
            "  - Val Accuracy: 99.08%\n"
          ]
        },
        {
          "output_type": "stream",
          "name": "stderr",
          "text": [
            "Epoch 20/20 [Train]: 100%|██████████| 179/179 [00:54<00:00,  3.28it/s, loss=0.0001]\n"
          ]
        },
        {
          "output_type": "stream",
          "name": "stdout",
          "text": [
            "Epoch 20/20:\n",
            "  - Train Loss: 0.0104\n",
            "  - Val Loss: 0.0405\n",
            "  - Val Accuracy: 98.86%\n"
          ]
        },
        {
          "output_type": "display_data",
          "data": {
            "text/plain": [
              "<Figure size 1400x500 with 2 Axes>"
            ],
            "image/png": "[encoded data removed]"
          },
          "metadata": {}
        },
        {
          "output_type": "stream",
          "name": "stdout",
          "text": [
            "\n",
            "➡️ Loading Best Model for Final Evaluation\n",
            "\n",
            "➡️ Starting Final Evaluation (model from epoch 17 with accuracy 99.62%)\n"
          ]
        },
        {
          "output_type": "stream",
          "name": "stderr",
          "text": [
            "Testing: 100%|██████████| 41/41 [00:07<00:00,  5.83it/s]\n"
          ]
        },
        {
          "output_type": "stream",
          "name": "stdout",
          "text": [
            "\n",
            "Classification Report:\n",
            "              precision    recall  f1-score   support\n",
            "\n",
            "      glioma     0.9967    1.0000    0.9983       300\n",
            "  meningioma     0.9934    0.9902    0.9918       306\n",
            "   pituitary     1.0000    0.9967    0.9983       300\n",
            "     notumor     0.9951    0.9975    0.9963       405\n",
            "\n",
            "    accuracy                         0.9962      1311\n",
            "   macro avg     0.9963    0.9961    0.9962      1311\n",
            "weighted avg     0.9962    0.9962    0.9962      1311\n",
            "\n"
          ]
        },
        {
          "output_type": "display_data",
          "data": {
            "text/plain": [
              "<Figure size 1000x800 with 2 Axes>"
            ],
            "image/png": "[encoded data removed]"
          },
          "metadata": {}
        },
        {
          "output_type": "stream",
          "name": "stdout",
          "text": [
            "\n",
            "✅ Classification process completed successfully.\n"
          ]
        }
      ]
    }
  ]
}